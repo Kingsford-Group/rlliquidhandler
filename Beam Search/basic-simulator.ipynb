{
 "cells": [
  {
   "cell_type": "code",
   "execution_count": 1,
   "metadata": {},
   "outputs": [],
   "source": [
    "import csv\n",
    "import copy\n",
    "import string\n",
    "import random\n",
    "import pandas as pd\n",
    "import numpy as np\n",
    "from collections import defaultdict"
   ]
  },
  {
   "cell_type": "code",
   "execution_count": 2,
   "metadata": {},
   "outputs": [],
   "source": [
    "#(algorithm will check incorrectness)\n",
    "class Machine:\n",
    "    def __init__(self, deck_dim, plate_dim, well_cap, tip_cap, head_pos = (0, 0), num_sol = 10): #deck_dim is a tuple (row_num, col_num)\n",
    "        self.deck_dim = deck_dim #different from deck_row, deck_col defined later\n",
    "        self.plate_dim = plate_dim\n",
    "        self.well_cap = well_cap\n",
    "        self.tip_cap = tip_cap\n",
    "        self.head_pos = head_pos\n",
    "        \n",
    "        self.deck_row, self.deck_col = deck_dim[0] * plate_dim[0], deck_dim[1] * plate_dim[1]\n",
    "        num_wells = self.deck_row * self.deck_col + plate_dim[0] * plate_dim[1] + 1 # Deck + Goal + Headtip\n",
    "        self.status = np.zeros((num_sol, num_wells)) \n",
    "        \n",
    "        self.read_goal()\n",
    "        self.read_init()\n",
    "        \n",
    "    # PASSED\n",
    "    def read_goal(self):\n",
    "        with open('goal.txt', 'r') as f:\n",
    "            lines = [[int(x) for x in line.strip().split(',')] for line in f.readlines()]\n",
    "        self.goal_pos = tuple(lines[0])\n",
    "        p = self.deck_row * self.deck_col\n",
    "        for line in lines[1:]:\n",
    "            x, y, sol, vol = line\n",
    "            x_, y_ = sol, p + x * self.plate_dim[1] + y\n",
    "            self.status[x_, y_] += vol\n",
    "    # PASSED       \n",
    "    def read_init(self):\n",
    "        with open('init.txt', 'r') as f:\n",
    "            lines = [[int(x) for x in line.strip().split(',')] for line in f.readlines()]\n",
    "        self.init_pos = tuple(lines[0])\n",
    "        p = self.init_pos[0] * self.plate_dim[0] * self.deck_col + self.init_pos[1] * self.plate_dim[1]\n",
    "        for line in lines[1:]:\n",
    "            x, y, sol, vol = line\n",
    "            x_, y_ = sol, p + (x * self.deck_col + y)\n",
    "            self.status[x_, y_] += vol\n",
    "            \n",
    "    # PASSED\n",
    "    def simulate(self, protocol, mc = 1, zc = 1, ac = 1, dc = 1): # a list of cmds in format [op, x, y, vol] where x is solution id, y is position, v is volume\n",
    "        head_pos = self.head_pos\n",
    "        status = copy.deepcopy(self.status)\n",
    "        cost = 0\n",
    "        \n",
    "        for command in protocol:\n",
    "            c, status, head_pos = self.simulate_cmd(command, head_pos, status, mc, zc, ac, dc)\n",
    "            cost += c\n",
    "        return cost, status, head_pos\n",
    "    \n",
    "    # PASSED\n",
    "    def simulate_cmd(self, command, head_pos, status, mc = 1, zc = 1, ac = 1, dc = 1):\n",
    "        cost = 0\n",
    "        op, x, y, vol = command\n",
    "        \n",
    "        to_r, to_c = y // self.deck_col, y % self.deck_col\n",
    "        move_dst = abs(to_r - head_pos[0]) + abs(to_c - head_pos[1])\n",
    "        cost += move_dst * mc\n",
    "        \n",
    "        if op == 0: #zero, move to y, tip -  (x, vol don't matter)\n",
    "            cost += zc\n",
    "            status[:, -1] = 0\n",
    "        \n",
    "        elif op == 1: #asp, move to y, well - , tip + \n",
    "            cost += ac\n",
    "            status[x, y] -= vol\n",
    "            status[x, -1] += vol\n",
    "        \n",
    "        elif op == 2: #dsp, move to y, well + , tip -\n",
    "            cost += dc\n",
    "            status[x, y] += vol\n",
    "            status[x, -1] -= vol\n",
    "       \n",
    "        else:\n",
    "            print(\"operation is not recoginized\")\n",
    "            return\n",
    "        \n",
    "        head_pos = (to_r, to_c)\n",
    "        return cost, status, head_pos"
   ]
  },
  {
   "cell_type": "code",
   "execution_count": 3,
   "metadata": {},
   "outputs": [],
   "source": [
    "deck_dim = (2, 3)\n",
    "plate_dim = (2, 3)\n",
    "well_cap = 1000\n",
    "tip_cap = 100"
   ]
  },
  {
   "cell_type": "code",
   "execution_count": 4,
   "metadata": {},
   "outputs": [],
   "source": [
    "lhpo = Machine(deck_dim, plate_dim, well_cap, tip_cap, num_sol = 3)"
   ]
  }
 ],
 "metadata": {
  "kernelspec": {
   "display_name": "Python 3",
   "language": "python",
   "name": "python3"
  },
  "language_info": {
   "codemirror_mode": {
    "name": "ipython",
    "version": 3
   },
   "file_extension": ".py",
   "mimetype": "text/x-python",
   "name": "python",
   "nbconvert_exporter": "python",
   "pygments_lexer": "ipython3",
   "version": "3.8.5"
  }
 },
 "nbformat": 4,
 "nbformat_minor": 4
}
